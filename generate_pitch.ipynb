{
 "cells": [
  {
   "cell_type": "code",
   "execution_count": 7,
   "metadata": {},
   "outputs": [],
   "source": [
    "import os\n",
    "import openai\n",
    "from langchain.llms import OpenAI as LLMOpenAI  # Using an alias to avoid confusion with openai import\n",
    "from langchain.prompts import PromptTemplate"
   ]
  },
  {
   "cell_type": "code",
   "execution_count": 4,
   "metadata": {},
   "outputs": [],
   "source": [
    "openai.api_key = 'your-openai-api-key'"
   ]
  },
  {
   "cell_type": "code",
   "execution_count": null,
   "metadata": {},
   "outputs": [],
   "source": [
    "def read_files(directory):\n",
    "    file_contents = []\n",
    "    for filename in os.listdir(directory):\n",
    "        if filename.endswith(\".txt\"):\n",
    "            with open(os.path.join(directory, filename), 'r') as file:\n",
    "                file_contents.append(file.read())\n",
    "    return file_contents"
   ]
  },
  {
   "cell_type": "code",
   "execution_count": null,
   "metadata": {},
   "outputs": [],
   "source": [
    "def generate_pitch(base_texts, new_project_description):\n",
    "    # Initialize the OpenAI client from LangChain\n",
    "    llm_openai = LLMOpenAI(api_key=openai.api_key)\n",
    "\n",
    "    # Prepare the context from previous texts\n",
    "    context = \" \".join(base_texts)\n",
    "\n",
    "    # Create a prompt template with dynamic input\n",
    "    prompt_template = PromptTemplate(\n",
    "        template_string=\"Given the following project details: {}\\nGenerate a detailed pitch based on the historical context provided.\",\n",
    "        llim=llm_openai\n",
    "    )\n",
    "\n",
    "    # Generate the pitch using the prompt template\n",
    "    new_pitch = prompt_template.generate([new_project_description], context=context)\n",
    "    return new_pitch"
   ]
  },
  {
   "cell_type": "code",
   "execution_count": null,
   "metadata": {},
   "outputs": [],
   "source": [
    "def main():\n",
    "    directory_of_past_pitches = 'path/to/your/past/pitches'\n",
    "    description_of_new_project = 'path/to/new/project/description.txt'\n",
    "\n",
    "    # Read the past pitches\n",
    "    past_pitches = read_files(directory_of_past_pitches)\n",
    "\n",
    "    # Read the new project description\n",
    "    with open(description_of_new_project, 'r') as file:\n",
    "        new_project_description = file.read()\n",
    "\n",
    "    # Generate the new pitch\n",
    "    new_pitch = generate_pitch(past_pitches, new_project_description)\n",
    "    print(\"Generated Pitch:\")\n",
    "    print(new_pitch)\n",
    "\n",
    "if __name__ == \"__main__\":\n",
    "    main()"
   ]
  }
 ],
 "metadata": {
  "kernelspec": {
   "display_name": "base",
   "language": "python",
   "name": "python3"
  },
  "language_info": {
   "codemirror_mode": {
    "name": "ipython",
    "version": 3
   },
   "file_extension": ".py",
   "mimetype": "text/x-python",
   "name": "python",
   "nbconvert_exporter": "python",
   "pygments_lexer": "ipython3",
   "version": "3.11.5"
  }
 },
 "nbformat": 4,
 "nbformat_minor": 2
}
